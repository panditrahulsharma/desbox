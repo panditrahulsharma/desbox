{
  "nbformat": 4,
  "nbformat_minor": 0,
  "metadata": {
    "colab": {
      "name": "bank1_data.ipynb",
      "version": "0.3.2",
      "provenance": [],
      "collapsed_sections": [],
      "include_colab_link": true
    },
    "kernelspec": {
      "name": "python3",
      "display_name": "Python 3"
    }
  },
  "cells": [
    {
      "cell_type": "markdown",
      "metadata": {
        "id": "view-in-github",
        "colab_type": "text"
      },
      "source": [
        "<a href=\"https://colab.research.google.com/github/panditrahulsharma/desbox/blob/master/bank1_data.ipynb\" target=\"_parent\"><img src=\"https://colab.research.google.com/assets/colab-badge.svg\" alt=\"Open In Colab\"/></a>"
      ]
    },
    {
      "cell_type": "code",
      "metadata": {
        "id": "cuGE_h-bcVtR",
        "colab_type": "code",
        "colab": {}
      },
      "source": [
        ""
      ],
      "execution_count": 0,
      "outputs": []
    },
    {
      "cell_type": "markdown",
      "metadata": {
        "id": "hLqqqyI7coYN",
        "colab_type": "text"
      },
      "source": [
        "\"\"\"\n",
        "\n",
        "Q1. (Create a program that fulfills the following specification.)\n",
        "\n",
        "Program Specification\n",
        "\n",
        "Use the prev. ANN model to predict if the customer with the following information will leave the bank: (Churn_Modelling.csv)\n",
        "\n",
        "        Geography: France\n",
        "        Credit Score: 600\n",
        "        Gender: Male\n",
        "        Age: 40 years old\n",
        "        Tenure: 3 years\n",
        "        Balance: $60000\n",
        "        Number of Products: 2\n",
        "        Does this customer have a credit card? Yes\n",
        "        Is this customer an Active Member: Yes?\n",
        "        Estimated Salary: $50000\n",
        "\n",
        "So, should we say goodbye to that customer?\n",
        "\n",
        "\"\"\"\n"
      ]
    },
    {
      "cell_type": "code",
      "metadata": {
        "id": "g4uLDWIqdBBD",
        "colab_type": "code",
        "colab": {}
      },
      "source": [
        "from google.colab import drive\n",
        "drive.mount('/content/drive')\n",
        "\n",
        "import os\n",
        "os.getcwd()\n",
        "\n",
        "os.chdir('/content/drive/My Drive/deep-learning/day27')\n",
        "\n",
        "import pandas as pd\n",
        "dataset = pd.read_csv(\"Churn_Modelling.csv\")\n",
        "\n",
        "dataset.shape\n"
      ],
      "execution_count": 0,
      "outputs": []
    },
    {
      "cell_type": "code",
      "metadata": {
        "id": "XZ86zW35dh_9",
        "colab_type": "code",
        "colab": {}
      },
      "source": [
        "import numpy as np\n",
        "import matplotlib.pyplot as plt\n",
        "import pandas as pd"
      ],
      "execution_count": 0,
      "outputs": []
    },
    {
      "cell_type": "markdown",
      "metadata": {
        "id": "198VglUNd8ld",
        "colab_type": "text"
      },
      "source": [
        "\n",
        "only use data not \n",
        "\n",
        "---\n",
        "\n",
        "*italicized text*"
      ]
    },
    {
      "cell_type": "code",
      "metadata": {
        "id": "HnakZo-cdtDV",
        "colab_type": "code",
        "colab": {}
      },
      "source": [
        "\n",
        "features = dataset.iloc[:, 3:13].values\n",
        "labels = dataset.iloc[:, 13].values"
      ],
      "execution_count": 0,
      "outputs": []
    },
    {
      "cell_type": "markdown",
      "metadata": {
        "id": "JnijV1xReH_7",
        "colab_type": "text"
      },
      "source": [
        "hello"
      ]
    },
    {
      "cell_type": "code",
      "metadata": {
        "id": "cYYkC3mgeLYy",
        "colab_type": "code",
        "colab": {}
      },
      "source": [
        "\n",
        "from sklearn.preprocessing import LabelEncoder, OneHotEncoder\n",
        "labelencoder_features_1 = LabelEncoder()\n",
        "features[:, 1] = labelencoder_features_1.fit_transform(features[:, 1])\n",
        "\n",
        "labelencoder_features_2 = LabelEncoder()\n",
        "features[:, 2] = labelencoder_features_2.fit_transform(features[:, 2])\n",
        "\n",
        "onehotencoder = OneHotEncoder(categorical_features = [1])\n",
        "features = onehotencoder.fit_transform(features).toarray()\n",
        "\n",
        "features = features[:, 1:] #dummy variable trap\n",
        "\n",
        "features[1]\n"
      ],
      "execution_count": 0,
      "outputs": []
    },
    {
      "cell_type": "markdown",
      "metadata": {
        "id": "vVn6MfhueT_8",
        "colab_type": "text"
      },
      "source": [
        "\"\"\"we not take onehotencode becuse male and female is 1,0\"\"\""
      ]
    },
    {
      "cell_type": "code",
      "metadata": {
        "id": "Ga-x7K6YeeUw",
        "colab_type": "code",
        "colab": {}
      },
      "source": [
        "from sklearn.model_selection import train_test_split\n",
        "features_train,features_test,labels_train,labels_test=train_test_split(features,labels,random_state=0,test_size=0.2)"
      ],
      "execution_count": 0,
      "outputs": []
    },
    {
      "cell_type": "code",
      "metadata": {
        "id": "eQp70OnefLmK",
        "colab_type": "code",
        "colab": {
          "base_uri": "https://localhost:8080/",
          "height": 34
        },
        "outputId": "61ebac33-5f7a-4ab0-e589-2e8bc909d73e"
      },
      "source": [
        "features_test.size\n",
        "features_train.size"
      ],
      "execution_count": 8,
      "outputs": [
        {
          "output_type": "execute_result",
          "data": {
            "text/plain": [
              "88000"
            ]
          },
          "metadata": {
            "tags": []
          },
          "execution_count": 8
        }
      ]
    },
    {
      "cell_type": "code",
      "metadata": {
        "id": "UwW2Vmh-fZVc",
        "colab_type": "code",
        "colab": {}
      },
      "source": [
        "from sklearn.preprocessing import StandardScaler\n",
        "sc = StandardScaler()\n",
        "features_train = sc.fit_transform(features_train)\n",
        "features_test = sc.transform(features_test)"
      ],
      "execution_count": 0,
      "outputs": []
    },
    {
      "cell_type": "code",
      "metadata": {
        "id": "RmglKgSqg5ex",
        "colab_type": "code",
        "colab": {}
      },
      "source": [
        "# Importing the Keras libraries and packages\n",
        "import keras\n",
        "from keras.models import Sequential\n",
        "from keras.layers import Dense\n"
      ],
      "execution_count": 0,
      "outputs": []
    },
    {
      "cell_type": "code",
      "metadata": {
        "id": "26XffhkdhLyQ",
        "colab_type": "code",
        "colab": {}
      },
      "source": [
        "classifier = Sequential()\n",
        "\n",
        "features.shape\n"
      ],
      "execution_count": 0,
      "outputs": []
    },
    {
      "cell_type": "code",
      "metadata": {
        "id": "tdegba7AhTxb",
        "colab_type": "code",
        "colab": {}
      },
      "source": [
        "#adding the first hidden layer\n",
        "classifier.add(Dense(units = 6, kernel_initializer = 'uniform', activation = 'relu', input_dim = 11))\n",
        "#we use no of hidden 2/3 of input feature and plus ouput labels\n",
        "#here unit=6 means 6 nodes in first hidden layer\n"
      ],
      "execution_count": 0,
      "outputs": []
    },
    {
      "cell_type": "code",
      "metadata": {
        "id": "DtecfvVAipPO",
        "colab_type": "code",
        "colab": {}
      },
      "source": [
        "classifier.add(Dense(units = 6, kernel_initializer = 'uniform', activation = 'relu'))\n"
      ],
      "execution_count": 0,
      "outputs": []
    },
    {
      "cell_type": "code",
      "metadata": {
        "id": "W8WB1nrii5xw",
        "colab_type": "code",
        "colab": {}
      },
      "source": [
        "# Adding the output layer\n",
        "classifier.add(Dense(units = 1, kernel_initializer = 'uniform', activation = 'sigmoid'))\n",
        "\n",
        "# Compiling the ANN"
      ],
      "execution_count": 0,
      "outputs": []
    },
    {
      "cell_type": "code",
      "metadata": {
        "id": "l9mvY8-ZjSxb",
        "colab_type": "code",
        "colab": {}
      },
      "source": [
        "classifier.compile(optimizer = 'adam', loss = 'binary_crossentropy', metrics = ['accuracy'])\n",
        "#adam is lago in descent gradient to perform optimization like soring algo diff\n",
        "classifier.fit(features_train, labels_train, batch_size = 10, epochs = 20)\n"
      ],
      "execution_count": 0,
      "outputs": []
    },
    {
      "cell_type": "code",
      "metadata": {
        "id": "lx3gcipKj5LC",
        "colab_type": "code",
        "colab": {}
      },
      "source": [
        "\n",
        "labels_pred = classifier.predict(features_test)\n",
        "labels_pred = (labels_pred > 0.5)"
      ],
      "execution_count": 0,
      "outputs": []
    },
    {
      "cell_type": "code",
      "metadata": {
        "id": "DHLOX56ekESo",
        "colab_type": "code",
        "colab": {
          "base_uri": "https://localhost:8080/",
          "height": 34
        },
        "outputId": "f2445c14-7df0-4b86-a8dc-f05a89c32589"
      },
      "source": [
        "from sklearn.metrics import confusion_matrix,accuracy_score\n",
        "cm=confusion_matrix(labels_pred,labels_test)\n",
        "print(\"accuracy score of model=\",accuracy_score(labels_pred,labels_test))"
      ],
      "execution_count": 34,
      "outputs": [
        {
          "output_type": "stream",
          "text": [
            "accuracy score of model= 0.7975\n"
          ],
          "name": "stdout"
        }
      ]
    },
    {
      "cell_type": "markdown",
      "metadata": {
        "id": "E6eqSUVDktMT",
        "colab_type": "text"
      },
      "source": [
        " Geography: France\n",
        "    Credit Score: 600\n",
        "    Gender: Male\n",
        "    Age: 40 years old\n",
        "    Tenure: 3 years\n",
        "    Balance: $60000\n",
        "\n",
        "\n",
        "\n",
        "\n",
        "\n",
        "\n",
        "\n",
        "\n",
        "        Number of Products: 2\n",
        "        Does this customer have a credit card? Yes\n",
        "        Is this customer an Active Me\n",
        "\n",
        "```\n",
        "# This is formatted as code\n",
        "```\n",
        "\n",
        "mber: Yes?\n",
        "        Estimated Salary: $*50000*"
      ]
    },
    {
      "cell_type": "code",
      "metadata": {
        "id": "EfMPXZ06ksaN",
        "colab_type": "code",
        "colab": {}
      },
      "source": [
        "dataset.head()"
      ],
      "execution_count": 0,
      "outputs": []
    },
    {
      "cell_type": "code",
      "metadata": {
        "id": "ym6buBj9kjyu",
        "colab_type": "code",
        "colab": {
          "base_uri": "https://localhost:8080/",
          "height": 34
        },
        "outputId": "2be9b519-da4e-4496-a102-66e46671ff89"
      },
      "source": [
        "p=labelencoder_features_1.transform(['France'])\n",
        "p"
      ],
      "execution_count": 38,
      "outputs": [
        {
          "output_type": "execute_result",
          "data": {
            "text/plain": [
              "array([0])"
            ]
          },
          "metadata": {
            "tags": []
          },
          "execution_count": 38
        }
      ]
    },
    {
      "cell_type": "code",
      "metadata": {
        "id": "zC--4iR8mron",
        "colab_type": "code",
        "colab": {}
      },
      "source": [
        "p= onehotencoder.transform(p)"
      ],
      "execution_count": 0,
      "outputs": []
    },
    {
      "cell_type": "code",
      "metadata": {
        "id": "u8Ds_ThKm1BU",
        "colab_type": "code",
        "colab": {}
      },
      "source": [
        ""
      ],
      "execution_count": 0,
      "outputs": []
    }
  ]
}